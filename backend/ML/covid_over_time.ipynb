{
 "metadata": {
  "language_info": {
   "codemirror_mode": {
    "name": "ipython",
    "version": 3
   },
   "file_extension": ".py",
   "mimetype": "text/x-python",
   "name": "python",
   "nbconvert_exporter": "python",
   "pygments_lexer": "ipython3",
   "version": "3.6.2-final"
  },
  "orig_nbformat": 2,
  "kernelspec": {
   "name": "python3",
   "display_name": "Python 3",
   "language": "python"
  }
 },
 "nbformat": 4,
 "nbformat_minor": 2,
 "cells": [
  {
   "cell_type": "code",
   "execution_count": 2,
   "metadata": {},
   "outputs": [],
   "source": [
    "import pandas as pd \n",
    "df = pd.read_csv('pegasus/dimensions-covid19-export-2021-02-22-h18-25-53_publications.csv',\n",
    "                 lineterminator='\\n')"
   ]
  },
  {
   "cell_type": "code",
   "execution_count": 4,
   "metadata": {},
   "outputs": [
    {
     "output_type": "execute_result",
     "data": {
      "text/plain": [
       "Index(['Date added', 'Publication ID', 'DOI', 'PMID', 'PMCID', 'Title',\n",
       "       'Abstract', 'Source title', 'Source UID', 'Publisher', 'MeSH terms',\n",
       "       'Publication Date', 'PubYear', 'Volume', 'Issue', 'Pagination',\n",
       "       'Open Access', 'Publication Type', 'Authors', 'Corresponding Authors',\n",
       "       'Authors Affiliations', 'Research Organizations - standardized',\n",
       "       'GRID IDs', 'City of Research organization',\n",
       "       'Country of Research organization', 'Funder',\n",
       "       'UIDs of supporting grants', 'Times cited', 'Altmetric',\n",
       "       'Source Linkout', 'Dimensions URL'],\n",
       "      dtype='object')"
      ]
     },
     "metadata": {},
     "execution_count": 4
    }
   ],
   "source": [
    "df.columns"
   ]
  },
  {
   "cell_type": "code",
   "execution_count": 45,
   "metadata": {},
   "outputs": [],
   "source": [
    "df = df[(df['Abstract'].isnull()==False) & (df['MeSH terms'].isnull()==False)]"
   ]
  },
  {
   "cell_type": "code",
   "execution_count": 47,
   "metadata": {},
   "outputs": [],
   "source": [
    "df_1000 = df.nlargest(1000, 'Times cited')"
   ]
  },
  {
   "cell_type": "code",
   "execution_count": 48,
   "metadata": {},
   "outputs": [
    {
     "output_type": "execute_result",
     "data": {
      "text/plain": [
       "        Date added  Publication ID                              DOI  \\\n",
       "320122  2020-01-26  pub.1124290823    10.1016/s0140-6736(20)30183-5   \n",
       "318440  2020-03-02  pub.1125146281            10.1056/nejmoa2002032   \n",
       "320121  2020-01-26  pub.1124289146            10.1056/nejmoa2001017   \n",
       "319669  2020-02-08  pub.1124654147           10.1001/jama.2020.1585   \n",
       "317083  2020-03-13  pub.1125550328    10.1016/s0140-6736(20)30566-3   \n",
       "...            ...             ...                              ...   \n",
       "300880  2020-04-24  pub.1126882467                10.1111/ene.14273   \n",
       "302858  2020-04-22  pub.1126828837  10.1016/j.scitotenv.2020.138835   \n",
       "306972  2020-04-14  pub.1126637828        10.3346/jkms.2020.35.e149   \n",
       "308891  2020-04-10  pub.1126389365       10.1016/j.tips.2020.03.006   \n",
       "221505  2020-07-26  pub.1129628384           10.1126/sciadv.abc5801   \n",
       "\n",
       "              PMID       PMCID  \\\n",
       "320122  31986264.0  PMC7159299   \n",
       "318440  32109013.0  PMC7092819   \n",
       "320121  31978945.0  PMC7092803   \n",
       "319669  32031570.0  PMC7042881   \n",
       "317083  32171076.0  PMC7270627   \n",
       "...            ...         ...   \n",
       "300880  32320508.0  PMC7264557   \n",
       "302858  32334162.0  PMC7195034   \n",
       "306972  32281317.0  PMC7152526   \n",
       "308891  32291112.0  PMC7144665   \n",
       "221505  32937591.0         NaN   \n",
       "\n",
       "                                                    Title  \\\n",
       "320122  Clinical features of patients infected with 20...   \n",
       "318440  Clinical Characteristics of Coronavirus Diseas...   \n",
       "320121  A Novel Coronavirus from Patients with Pneumon...   \n",
       "319669  Clinical Characteristics of 138 Hospitalized P...   \n",
       "317083  Clinical course and risk factors for mortality...   \n",
       "...                                                   ...   \n",
       "300880  Acute‐onset smell and taste disorders in the c...   \n",
       "302858  Correlation between climate indicators and COV...   \n",
       "306972  Use of Convalescent Plasma Therapy in Two COVI...   \n",
       "308891  Ongoing Clinical Trials for the Management of ...   \n",
       "221505  Non-neuronal expression of SARS-CoV-2 entry ge...   \n",
       "\n",
       "                                                 Abstract  \\\n",
       "320122  BACKGROUND: A recent cluster of pneumonia case...   \n",
       "318440  BACKGROUND: Since December 2019, when coronavi...   \n",
       "320121  In December 2019, a cluster of patients with p...   \n",
       "319669  Importance: In December 2019, novel coronaviru...   \n",
       "317083  BACKGROUND: Since December, 2019, Wuhan, China...   \n",
       "...                                                   ...   \n",
       "300880  BACKGROUND AND PURPOSE: Specific respiratory t...   \n",
       "302858  This study analyzed the association between CO...   \n",
       "306972  Coronavirus disease 2019 (COVID-19) caused by ...   \n",
       "308891  COVID-19 has rapidly developed into a worldwid...   \n",
       "221505  Altered olfactory function is a common symptom...   \n",
       "\n",
       "                                Source title    Source UID  \\\n",
       "320122                            The Lancet  jour.1077219   \n",
       "318440       New England Journal of Medicine  jour.1014075   \n",
       "320121       New England Journal of Medicine  jour.1014075   \n",
       "319669                                  JAMA  jour.1081531   \n",
       "317083                            The Lancet  jour.1077219   \n",
       "...                                      ...           ...   \n",
       "300880         European Journal of Neurology  jour.1114021   \n",
       "302858  The Science of The Total Environment  jour.1015499   \n",
       "306972     Journal of Korean Medical Science  jour.1096943   \n",
       "308891    Trends in Pharmacological Sciences  jour.1089772   \n",
       "221505                      Science Advances  jour.1051517   \n",
       "\n",
       "                                                Publisher  ...  \\\n",
       "320122                                           Elsevier  ...   \n",
       "318440                      Massachusetts Medical Society  ...   \n",
       "320121                      Massachusetts Medical Society  ...   \n",
       "319669                 American Medical Association (AMA)  ...   \n",
       "317083                                           Elsevier  ...   \n",
       "...                                                   ...  ...   \n",
       "300880                                              Wiley  ...   \n",
       "302858                                           Elsevier  ...   \n",
       "306972                 Korean Academy of Medical Sciences  ...   \n",
       "308891                                           Elsevier  ...   \n",
       "221505  American Association for the Advancement of Sc...  ...   \n",
       "\n",
       "                    Research Organizations - standardized  \\\n",
       "320122  Capital Medical University; Peking University ...   \n",
       "318440                                                NaN   \n",
       "320121                                                NaN   \n",
       "319669              Zhongnan Hospital of Wuhan University   \n",
       "317083  Jinyintan Hospital; Chinese Academy of Medical...   \n",
       "...                                                   ...   \n",
       "300880  Hospital Clínico San Carlos; Hospital Universi...   \n",
       "302858  University of International Business and Econo...   \n",
       "306972  Yonsei University; Severance Hospital; Nationa...   \n",
       "308891  Hammersmith Hospital; St Mary's Hospital; Impe...   \n",
       "221505  Ghent University; King's College London; Dana-...   \n",
       "\n",
       "                                                 GRID IDs  \\\n",
       "320122  grid.24696.3f; grid.411472.5; grid.12527.33; g...   \n",
       "318440                                                NaN   \n",
       "320121                                                NaN   \n",
       "319669                                      grid.413247.7   \n",
       "317083  grid.507952.c; grid.506261.6; grid.12527.33; g...   \n",
       "...                                                   ...   \n",
       "300880        grid.411068.a; grid.411347.4; grid.414808.1   \n",
       "302858  grid.443284.d; grid.216938.7; grid.216417.7; g...   \n",
       "306972  grid.15444.30; grid.415562.1; grid.415619.e; g...   \n",
       "308891          grid.413629.b; grid.426467.5; grid.7445.2   \n",
       "221505  grid.5342.0; grid.13097.3c; grid.65499.37; gri...   \n",
       "\n",
       "                            City of Research organization  \\\n",
       "320122  Beijing; Beijing; Beijing; Beijing; Wuhan; Wuh...   \n",
       "318440                                                NaN   \n",
       "320121                                                NaN   \n",
       "319669                                              Wuhan   \n",
       "317083   Wuhan; Beijing; Beijing; Beijing; Beijing; Wuhan   \n",
       "...                                                   ...   \n",
       "300880                             Madrid; Madrid; Madrid   \n",
       "302858                  Beijing; Tianjin; Changsha; Wuhan   \n",
       "306972                         Seoul; Seoul; Seoul; Seoul   \n",
       "308891                             London; London; London   \n",
       "221505  Ghent; London; Boston; Exeter; Durham; Oakland...   \n",
       "\n",
       "                         Country of Research organization  \\\n",
       "320122  China; China; China; China; China; China; Chin...   \n",
       "318440                                                NaN   \n",
       "320121                                                NaN   \n",
       "319669                                              China   \n",
       "317083           China; China; China; China; China; China   \n",
       "...                                                   ...   \n",
       "300880                                Spain; Spain; Spain   \n",
       "302858                         China; China; China; China   \n",
       "306972  South Korea; South Korea; South Korea; South K...   \n",
       "308891     United Kingdom; United Kingdom; United Kingdom   \n",
       "221505  Belgium; United Kingdom; United States; United...   \n",
       "\n",
       "                                                   Funder  \\\n",
       "320122  Ministry of Science and Technology of the Peop...   \n",
       "318440                                                NaN   \n",
       "320121                                                NaN   \n",
       "319669                                                NaN   \n",
       "317083  Beijing Municipal Science & Technology Commisi...   \n",
       "...                                                   ...   \n",
       "300880                                                NaN   \n",
       "302858  Ministry of Education of the People's Republic...   \n",
       "306972                     Ministry of Health and Welfare   \n",
       "308891                                                NaN   \n",
       "221505  Alfred P. Sloan Foundation; European Research ...   \n",
       "\n",
       "                                UIDs of supporting grants Times cited  \\\n",
       "320122                                                NaN       16671   \n",
       "318440                                                NaN       10838   \n",
       "320121                                                NaN        9645   \n",
       "319669                                                NaN        9574   \n",
       "317083                                                NaN        9424   \n",
       "...                                                   ...         ...   \n",
       "300880                                                NaN         157   \n",
       "302858                                                NaN         157   \n",
       "306972                                                NaN         157   \n",
       "308891                                                NaN         157   \n",
       "221505  grant.7615104; grant.6711290; grant.3933944; g...         156   \n",
       "\n",
       "       Altmetric                                     Source Linkout  \\\n",
       "320122   14217.0  http://www.thelancet.com/article/S014067362030...   \n",
       "318440   10360.0              https://doi.org/10.1056/nejmoa2002032   \n",
       "320121    5596.0              https://doi.org/10.1056/nejmoa2001017   \n",
       "319669    6440.0  https://jamanetwork.com/journals/jama/articlep...   \n",
       "317083   13460.0  http://www.thelancet.com/article/S014067362030...   \n",
       "...          ...                                                ...   \n",
       "300880     190.0  https://onlinelibrary.wiley.com/doi/pdfdirect/...   \n",
       "302858      17.0  http://europepmc.org/articles/pmc7195034?pdf=r...   \n",
       "306972      83.0  http://jkms.org/Synapse/Data/PDFData/0063JKMS/...   \n",
       "308891      79.0  http://www.cell.com/article/S0165614720300705/pdf   \n",
       "221505    2310.0  https://advances.sciencemag.org/content/advanc...   \n",
       "\n",
       "                                           Dimensions URL  \n",
       "320122  https://app.dimensions.ai/details/publication/...  \n",
       "318440  https://app.dimensions.ai/details/publication/...  \n",
       "320121  https://app.dimensions.ai/details/publication/...  \n",
       "319669  https://app.dimensions.ai/details/publication/...  \n",
       "317083  https://app.dimensions.ai/details/publication/...  \n",
       "...                                                   ...  \n",
       "300880  https://app.dimensions.ai/details/publication/...  \n",
       "302858  https://app.dimensions.ai/details/publication/...  \n",
       "306972  https://app.dimensions.ai/details/publication/...  \n",
       "308891  https://app.dimensions.ai/details/publication/...  \n",
       "221505  https://app.dimensions.ai/details/publication/...  \n",
       "\n",
       "[1000 rows x 31 columns]"
      ],
      "text/html": "<div>\n<style scoped>\n    .dataframe tbody tr th:only-of-type {\n        vertical-align: middle;\n    }\n\n    .dataframe tbody tr th {\n        vertical-align: top;\n    }\n\n    .dataframe thead th {\n        text-align: right;\n    }\n</style>\n<table border=\"1\" class=\"dataframe\">\n  <thead>\n    <tr style=\"text-align: right;\">\n      <th></th>\n      <th>Date added</th>\n      <th>Publication ID</th>\n      <th>DOI</th>\n      <th>PMID</th>\n      <th>PMCID</th>\n      <th>Title</th>\n      <th>Abstract</th>\n      <th>Source title</th>\n      <th>Source UID</th>\n      <th>Publisher</th>\n      <th>...</th>\n      <th>Research Organizations - standardized</th>\n      <th>GRID IDs</th>\n      <th>City of Research organization</th>\n      <th>Country of Research organization</th>\n      <th>Funder</th>\n      <th>UIDs of supporting grants</th>\n      <th>Times cited</th>\n      <th>Altmetric</th>\n      <th>Source Linkout</th>\n      <th>Dimensions URL</th>\n    </tr>\n  </thead>\n  <tbody>\n    <tr>\n      <th>320122</th>\n      <td>2020-01-26</td>\n      <td>pub.1124290823</td>\n      <td>10.1016/s0140-6736(20)30183-5</td>\n      <td>31986264.0</td>\n      <td>PMC7159299</td>\n      <td>Clinical features of patients infected with 20...</td>\n      <td>BACKGROUND: A recent cluster of pneumonia case...</td>\n      <td>The Lancet</td>\n      <td>jour.1077219</td>\n      <td>Elsevier</td>\n      <td>...</td>\n      <td>Capital Medical University; Peking University ...</td>\n      <td>grid.24696.3f; grid.411472.5; grid.12527.33; g...</td>\n      <td>Beijing; Beijing; Beijing; Beijing; Wuhan; Wuh...</td>\n      <td>China; China; China; China; China; China; Chin...</td>\n      <td>Ministry of Science and Technology of the Peop...</td>\n      <td>NaN</td>\n      <td>16671</td>\n      <td>14217.0</td>\n      <td>http://www.thelancet.com/article/S014067362030...</td>\n      <td>https://app.dimensions.ai/details/publication/...</td>\n    </tr>\n    <tr>\n      <th>318440</th>\n      <td>2020-03-02</td>\n      <td>pub.1125146281</td>\n      <td>10.1056/nejmoa2002032</td>\n      <td>32109013.0</td>\n      <td>PMC7092819</td>\n      <td>Clinical Characteristics of Coronavirus Diseas...</td>\n      <td>BACKGROUND: Since December 2019, when coronavi...</td>\n      <td>New England Journal of Medicine</td>\n      <td>jour.1014075</td>\n      <td>Massachusetts Medical Society</td>\n      <td>...</td>\n      <td>NaN</td>\n      <td>NaN</td>\n      <td>NaN</td>\n      <td>NaN</td>\n      <td>NaN</td>\n      <td>NaN</td>\n      <td>10838</td>\n      <td>10360.0</td>\n      <td>https://doi.org/10.1056/nejmoa2002032</td>\n      <td>https://app.dimensions.ai/details/publication/...</td>\n    </tr>\n    <tr>\n      <th>320121</th>\n      <td>2020-01-26</td>\n      <td>pub.1124289146</td>\n      <td>10.1056/nejmoa2001017</td>\n      <td>31978945.0</td>\n      <td>PMC7092803</td>\n      <td>A Novel Coronavirus from Patients with Pneumon...</td>\n      <td>In December 2019, a cluster of patients with p...</td>\n      <td>New England Journal of Medicine</td>\n      <td>jour.1014075</td>\n      <td>Massachusetts Medical Society</td>\n      <td>...</td>\n      <td>NaN</td>\n      <td>NaN</td>\n      <td>NaN</td>\n      <td>NaN</td>\n      <td>NaN</td>\n      <td>NaN</td>\n      <td>9645</td>\n      <td>5596.0</td>\n      <td>https://doi.org/10.1056/nejmoa2001017</td>\n      <td>https://app.dimensions.ai/details/publication/...</td>\n    </tr>\n    <tr>\n      <th>319669</th>\n      <td>2020-02-08</td>\n      <td>pub.1124654147</td>\n      <td>10.1001/jama.2020.1585</td>\n      <td>32031570.0</td>\n      <td>PMC7042881</td>\n      <td>Clinical Characteristics of 138 Hospitalized P...</td>\n      <td>Importance: In December 2019, novel coronaviru...</td>\n      <td>JAMA</td>\n      <td>jour.1081531</td>\n      <td>American Medical Association (AMA)</td>\n      <td>...</td>\n      <td>Zhongnan Hospital of Wuhan University</td>\n      <td>grid.413247.7</td>\n      <td>Wuhan</td>\n      <td>China</td>\n      <td>NaN</td>\n      <td>NaN</td>\n      <td>9574</td>\n      <td>6440.0</td>\n      <td>https://jamanetwork.com/journals/jama/articlep...</td>\n      <td>https://app.dimensions.ai/details/publication/...</td>\n    </tr>\n    <tr>\n      <th>317083</th>\n      <td>2020-03-13</td>\n      <td>pub.1125550328</td>\n      <td>10.1016/s0140-6736(20)30566-3</td>\n      <td>32171076.0</td>\n      <td>PMC7270627</td>\n      <td>Clinical course and risk factors for mortality...</td>\n      <td>BACKGROUND: Since December, 2019, Wuhan, China...</td>\n      <td>The Lancet</td>\n      <td>jour.1077219</td>\n      <td>Elsevier</td>\n      <td>...</td>\n      <td>Jinyintan Hospital; Chinese Academy of Medical...</td>\n      <td>grid.507952.c; grid.506261.6; grid.12527.33; g...</td>\n      <td>Wuhan; Beijing; Beijing; Beijing; Beijing; Wuhan</td>\n      <td>China; China; China; China; China; China</td>\n      <td>Beijing Municipal Science &amp; Technology Commisi...</td>\n      <td>NaN</td>\n      <td>9424</td>\n      <td>13460.0</td>\n      <td>http://www.thelancet.com/article/S014067362030...</td>\n      <td>https://app.dimensions.ai/details/publication/...</td>\n    </tr>\n    <tr>\n      <th>...</th>\n      <td>...</td>\n      <td>...</td>\n      <td>...</td>\n      <td>...</td>\n      <td>...</td>\n      <td>...</td>\n      <td>...</td>\n      <td>...</td>\n      <td>...</td>\n      <td>...</td>\n      <td>...</td>\n      <td>...</td>\n      <td>...</td>\n      <td>...</td>\n      <td>...</td>\n      <td>...</td>\n      <td>...</td>\n      <td>...</td>\n      <td>...</td>\n      <td>...</td>\n      <td>...</td>\n    </tr>\n    <tr>\n      <th>300880</th>\n      <td>2020-04-24</td>\n      <td>pub.1126882467</td>\n      <td>10.1111/ene.14273</td>\n      <td>32320508.0</td>\n      <td>PMC7264557</td>\n      <td>Acute‐onset smell and taste disorders in the c...</td>\n      <td>BACKGROUND AND PURPOSE: Specific respiratory t...</td>\n      <td>European Journal of Neurology</td>\n      <td>jour.1114021</td>\n      <td>Wiley</td>\n      <td>...</td>\n      <td>Hospital Clínico San Carlos; Hospital Universi...</td>\n      <td>grid.411068.a; grid.411347.4; grid.414808.1</td>\n      <td>Madrid; Madrid; Madrid</td>\n      <td>Spain; Spain; Spain</td>\n      <td>NaN</td>\n      <td>NaN</td>\n      <td>157</td>\n      <td>190.0</td>\n      <td>https://onlinelibrary.wiley.com/doi/pdfdirect/...</td>\n      <td>https://app.dimensions.ai/details/publication/...</td>\n    </tr>\n    <tr>\n      <th>302858</th>\n      <td>2020-04-22</td>\n      <td>pub.1126828837</td>\n      <td>10.1016/j.scitotenv.2020.138835</td>\n      <td>32334162.0</td>\n      <td>PMC7195034</td>\n      <td>Correlation between climate indicators and COV...</td>\n      <td>This study analyzed the association between CO...</td>\n      <td>The Science of The Total Environment</td>\n      <td>jour.1015499</td>\n      <td>Elsevier</td>\n      <td>...</td>\n      <td>University of International Business and Econo...</td>\n      <td>grid.443284.d; grid.216938.7; grid.216417.7; g...</td>\n      <td>Beijing; Tianjin; Changsha; Wuhan</td>\n      <td>China; China; China; China</td>\n      <td>Ministry of Education of the People's Republic...</td>\n      <td>NaN</td>\n      <td>157</td>\n      <td>17.0</td>\n      <td>http://europepmc.org/articles/pmc7195034?pdf=r...</td>\n      <td>https://app.dimensions.ai/details/publication/...</td>\n    </tr>\n    <tr>\n      <th>306972</th>\n      <td>2020-04-14</td>\n      <td>pub.1126637828</td>\n      <td>10.3346/jkms.2020.35.e149</td>\n      <td>32281317.0</td>\n      <td>PMC7152526</td>\n      <td>Use of Convalescent Plasma Therapy in Two COVI...</td>\n      <td>Coronavirus disease 2019 (COVID-19) caused by ...</td>\n      <td>Journal of Korean Medical Science</td>\n      <td>jour.1096943</td>\n      <td>Korean Academy of Medical Sciences</td>\n      <td>...</td>\n      <td>Yonsei University; Severance Hospital; Nationa...</td>\n      <td>grid.15444.30; grid.415562.1; grid.415619.e; g...</td>\n      <td>Seoul; Seoul; Seoul; Seoul</td>\n      <td>South Korea; South Korea; South Korea; South K...</td>\n      <td>Ministry of Health and Welfare</td>\n      <td>NaN</td>\n      <td>157</td>\n      <td>83.0</td>\n      <td>http://jkms.org/Synapse/Data/PDFData/0063JKMS/...</td>\n      <td>https://app.dimensions.ai/details/publication/...</td>\n    </tr>\n    <tr>\n      <th>308891</th>\n      <td>2020-04-10</td>\n      <td>pub.1126389365</td>\n      <td>10.1016/j.tips.2020.03.006</td>\n      <td>32291112.0</td>\n      <td>PMC7144665</td>\n      <td>Ongoing Clinical Trials for the Management of ...</td>\n      <td>COVID-19 has rapidly developed into a worldwid...</td>\n      <td>Trends in Pharmacological Sciences</td>\n      <td>jour.1089772</td>\n      <td>Elsevier</td>\n      <td>...</td>\n      <td>Hammersmith Hospital; St Mary's Hospital; Impe...</td>\n      <td>grid.413629.b; grid.426467.5; grid.7445.2</td>\n      <td>London; London; London</td>\n      <td>United Kingdom; United Kingdom; United Kingdom</td>\n      <td>NaN</td>\n      <td>NaN</td>\n      <td>157</td>\n      <td>79.0</td>\n      <td>http://www.cell.com/article/S0165614720300705/pdf</td>\n      <td>https://app.dimensions.ai/details/publication/...</td>\n    </tr>\n    <tr>\n      <th>221505</th>\n      <td>2020-07-26</td>\n      <td>pub.1129628384</td>\n      <td>10.1126/sciadv.abc5801</td>\n      <td>32937591.0</td>\n      <td>NaN</td>\n      <td>Non-neuronal expression of SARS-CoV-2 entry ge...</td>\n      <td>Altered olfactory function is a common symptom...</td>\n      <td>Science Advances</td>\n      <td>jour.1051517</td>\n      <td>American Association for the Advancement of Sc...</td>\n      <td>...</td>\n      <td>Ghent University; King's College London; Dana-...</td>\n      <td>grid.5342.0; grid.13097.3c; grid.65499.37; gri...</td>\n      <td>Ghent; London; Boston; Exeter; Durham; Oakland...</td>\n      <td>Belgium; United Kingdom; United States; United...</td>\n      <td>Alfred P. Sloan Foundation; European Research ...</td>\n      <td>grant.7615104; grant.6711290; grant.3933944; g...</td>\n      <td>156</td>\n      <td>2310.0</td>\n      <td>https://advances.sciencemag.org/content/advanc...</td>\n      <td>https://app.dimensions.ai/details/publication/...</td>\n    </tr>\n  </tbody>\n</table>\n<p>1000 rows × 31 columns</p>\n</div>"
     },
     "metadata": {},
     "execution_count": 48
    }
   ],
   "source": [
    "df_1000"
   ]
  },
  {
   "cell_type": "code",
   "execution_count": 152,
   "metadata": {},
   "outputs": [
    {
     "output_type": "stream",
     "name": "stderr",
     "text": [
      "ipykernel_launcher:1: SettingWithCopyWarning: \nA value is trying to be set on a copy of a slice from a DataFrame.\nTry using .loc[row_indexer,col_indexer] = value instead\n\nSee the caveats in the documentation: https://pandas.pydata.org/pandas-docs/stable/user_guide/indexing.html#returning-a-view-versus-a-copy\n"
     ]
    }
   ],
   "source": [
    "df['year-month'] = df['Date added'].str.slice(0, 7)"
   ]
  },
  {
   "cell_type": "code",
   "execution_count": 155,
   "metadata": {},
   "outputs": [
    {
     "output_type": "execute_result",
     "data": {
      "text/plain": [
       "                                                   MeSH terms  \\\n",
       "year-month                                                      \n",
       "2017-08     Adult; Hepatectomy; Humans; Liver; Liver Trans...   \n",
       "2019-02     Animals; Antineoplastic Agents; Antiviral Agen...   \n",
       "2019-06     Antiviral Agents; Dose-Response Relationship, ...   \n",
       "2019-07     Animals; Computational Biology; Drug Evaluatio...   \n",
       "2019-08     Animals; Antiviral Agents; Bacteria; Fungi; Hu...   \n",
       "2019-09     Adjuvants, Immunologic; Animals; Antiviral Age...   \n",
       "2019-10     Animals; Drug Development; Drug Stability; Hum...   \n",
       "2019-11     Animals; Cell Differentiation; Cells, Cultured...   \n",
       "2019-12     Adolescent; Adult; Brazil; Child; Child, Presc...   \n",
       "2020-01     Animals; Chiroptera; Coronavirus; Genetic Vari...   \n",
       "2020-02     Analgesia; Betacoronavirus; COVID-19; Consciou...   \n",
       "2020-03     Betacoronavirus; COVID-19; Coronavirus; Corona...   \n",
       "2020-04     Biosensing Techniques; Communicable Diseases, ...   \n",
       "2020-05     Betacoronavirus; COVID-19; Coronavirus Infecti...   \n",
       "2020-06     Betacoronavirus; COVID-19; Coronavirus Infecti...   \n",
       "2020-07     COVID-19; Cardiology; Delivery of Health Care;...   \n",
       "2020-08     Aged, 80 and over; COVID-19; Elective Surgical...   \n",
       "2020-09     Base Sequence; Methanococcus; Nucleic Acid Con...   \n",
       "2020-10     COVID-19; COVID-19 Testing; Colorimetry; Human...   \n",
       "2020-11     Humans; Morals; Neurosciences Angiotensin-Conv...   \n",
       "2020-12     Animals; Antiviral Agents; COVID-19; COVID-19 ...   \n",
       "2021-01     Adult; Asymptomatic Infections; COVID-19; Chin...   \n",
       "2021-02     COVID-19; Electronic Health Records; Humans; I...   \n",
       "\n",
       "                                                     concepts  \n",
       "year-month                                                     \n",
       "2017-08     [adult, hepatectomy, humans, liver, liver tran...  \n",
       "2019-02     [animals, antineoplastic agents, antiviral age...  \n",
       "2019-06     [antiviral agents, dose-response relationship,...  \n",
       "2019-07     [animals, computational biology, drug evaluati...  \n",
       "2019-08     [animals, antiviral agents, bacteria, fungi, h...  \n",
       "2019-09     [adjuvants, immunologic, animals, antiviral ag...  \n",
       "2019-10     [animals, drug development, drug stability, hu...  \n",
       "2019-11     [animals, cell differentiation, cells, culture...  \n",
       "2019-12     [adolescent, adult, brazil, child, child, pres...  \n",
       "2020-01     [animals, chiroptera, coronavirus, genetic var...  \n",
       "2020-02     [analgesia, betacoronavirus, covid-19, conscio...  \n",
       "2020-03     [betacoronavirus, covid-19, coronavirus, coron...  \n",
       "2020-04     [biosensing techniques, communicable diseases,...  \n",
       "2020-05     [betacoronavirus, covid-19, coronavirus infect...  \n",
       "2020-06     [betacoronavirus, covid-19, coronavirus infect...  \n",
       "2020-07     [covid-19, cardiology, delivery of health care...  \n",
       "2020-08     [aged, 80 and over, covid-19, elective surgica...  \n",
       "2020-09     [base sequence, methanococcus, nucleic acid co...  \n",
       "2020-10     [covid-19, covid-19 testing, colorimetry, huma...  \n",
       "2020-11     [humans, morals, neurosciences angiotensin-con...  \n",
       "2020-12     [animals, antiviral agents, covid-19, covid-19...  \n",
       "2021-01     [adult, asymptomatic infections, covid-19, chi...  \n",
       "2021-02     [covid-19, electronic health records, humans, ...  "
      ],
      "text/html": "<div>\n<style scoped>\n    .dataframe tbody tr th:only-of-type {\n        vertical-align: middle;\n    }\n\n    .dataframe tbody tr th {\n        vertical-align: top;\n    }\n\n    .dataframe thead th {\n        text-align: right;\n    }\n</style>\n<table border=\"1\" class=\"dataframe\">\n  <thead>\n    <tr style=\"text-align: right;\">\n      <th></th>\n      <th>MeSH terms</th>\n      <th>concepts</th>\n    </tr>\n    <tr>\n      <th>year-month</th>\n      <th></th>\n      <th></th>\n    </tr>\n  </thead>\n  <tbody>\n    <tr>\n      <th>2017-08</th>\n      <td>Adult; Hepatectomy; Humans; Liver; Liver Trans...</td>\n      <td>[adult, hepatectomy, humans, liver, liver tran...</td>\n    </tr>\n    <tr>\n      <th>2019-02</th>\n      <td>Animals; Antineoplastic Agents; Antiviral Agen...</td>\n      <td>[animals, antineoplastic agents, antiviral age...</td>\n    </tr>\n    <tr>\n      <th>2019-06</th>\n      <td>Antiviral Agents; Dose-Response Relationship, ...</td>\n      <td>[antiviral agents, dose-response relationship,...</td>\n    </tr>\n    <tr>\n      <th>2019-07</th>\n      <td>Animals; Computational Biology; Drug Evaluatio...</td>\n      <td>[animals, computational biology, drug evaluati...</td>\n    </tr>\n    <tr>\n      <th>2019-08</th>\n      <td>Animals; Antiviral Agents; Bacteria; Fungi; Hu...</td>\n      <td>[animals, antiviral agents, bacteria, fungi, h...</td>\n    </tr>\n    <tr>\n      <th>2019-09</th>\n      <td>Adjuvants, Immunologic; Animals; Antiviral Age...</td>\n      <td>[adjuvants, immunologic, animals, antiviral ag...</td>\n    </tr>\n    <tr>\n      <th>2019-10</th>\n      <td>Animals; Drug Development; Drug Stability; Hum...</td>\n      <td>[animals, drug development, drug stability, hu...</td>\n    </tr>\n    <tr>\n      <th>2019-11</th>\n      <td>Animals; Cell Differentiation; Cells, Cultured...</td>\n      <td>[animals, cell differentiation, cells, culture...</td>\n    </tr>\n    <tr>\n      <th>2019-12</th>\n      <td>Adolescent; Adult; Brazil; Child; Child, Presc...</td>\n      <td>[adolescent, adult, brazil, child, child, pres...</td>\n    </tr>\n    <tr>\n      <th>2020-01</th>\n      <td>Animals; Chiroptera; Coronavirus; Genetic Vari...</td>\n      <td>[animals, chiroptera, coronavirus, genetic var...</td>\n    </tr>\n    <tr>\n      <th>2020-02</th>\n      <td>Analgesia; Betacoronavirus; COVID-19; Consciou...</td>\n      <td>[analgesia, betacoronavirus, covid-19, conscio...</td>\n    </tr>\n    <tr>\n      <th>2020-03</th>\n      <td>Betacoronavirus; COVID-19; Coronavirus; Corona...</td>\n      <td>[betacoronavirus, covid-19, coronavirus, coron...</td>\n    </tr>\n    <tr>\n      <th>2020-04</th>\n      <td>Biosensing Techniques; Communicable Diseases, ...</td>\n      <td>[biosensing techniques, communicable diseases,...</td>\n    </tr>\n    <tr>\n      <th>2020-05</th>\n      <td>Betacoronavirus; COVID-19; Coronavirus Infecti...</td>\n      <td>[betacoronavirus, covid-19, coronavirus infect...</td>\n    </tr>\n    <tr>\n      <th>2020-06</th>\n      <td>Betacoronavirus; COVID-19; Coronavirus Infecti...</td>\n      <td>[betacoronavirus, covid-19, coronavirus infect...</td>\n    </tr>\n    <tr>\n      <th>2020-07</th>\n      <td>COVID-19; Cardiology; Delivery of Health Care;...</td>\n      <td>[covid-19, cardiology, delivery of health care...</td>\n    </tr>\n    <tr>\n      <th>2020-08</th>\n      <td>Aged, 80 and over; COVID-19; Elective Surgical...</td>\n      <td>[aged, 80 and over, covid-19, elective surgica...</td>\n    </tr>\n    <tr>\n      <th>2020-09</th>\n      <td>Base Sequence; Methanococcus; Nucleic Acid Con...</td>\n      <td>[base sequence, methanococcus, nucleic acid co...</td>\n    </tr>\n    <tr>\n      <th>2020-10</th>\n      <td>COVID-19; COVID-19 Testing; Colorimetry; Human...</td>\n      <td>[covid-19, covid-19 testing, colorimetry, huma...</td>\n    </tr>\n    <tr>\n      <th>2020-11</th>\n      <td>Humans; Morals; Neurosciences Angiotensin-Conv...</td>\n      <td>[humans, morals, neurosciences angiotensin-con...</td>\n    </tr>\n    <tr>\n      <th>2020-12</th>\n      <td>Animals; Antiviral Agents; COVID-19; COVID-19 ...</td>\n      <td>[animals, antiviral agents, covid-19, covid-19...</td>\n    </tr>\n    <tr>\n      <th>2021-01</th>\n      <td>Adult; Asymptomatic Infections; COVID-19; Chin...</td>\n      <td>[adult, asymptomatic infections, covid-19, chi...</td>\n    </tr>\n    <tr>\n      <th>2021-02</th>\n      <td>COVID-19; Electronic Health Records; Humans; I...</td>\n      <td>[covid-19, electronic health records, humans, ...</td>\n    </tr>\n  </tbody>\n</table>\n</div>"
     },
     "metadata": {},
     "execution_count": 155
    }
   ],
   "source": [
    "import ast\n",
    "\n",
    "df_grouped = df.groupby('year-month').agg({'MeSH terms':lambda x: ' '.join(x)})\n",
    "df_grouped['concepts'] = [l.split('; ') for l in df_grouped['MeSH terms']]\n",
    "df_grouped['concepts']=df_grouped.concepts.astype(str).str.lower().transform(ast.literal_eval)\n",
    "\n",
    "df_grouped"
   ]
  },
  {
   "cell_type": "code",
   "execution_count": 158,
   "metadata": {},
   "outputs": [
    {
     "output_type": "execute_result",
     "data": {
      "text/plain": [
       "[{'male': 364,\n",
       "  'female': 387,\n",
       "  'child': 105,\n",
       "  'adolescent': 5,\n",
       "  'middle aged': 253,\n",
       "  'aged, 80 and over': 69,\n",
       "  'comorbidity': 30,\n",
       "  'risk factors': 63,\n",
       "  'antiviral agents': 82,\n",
       "  'viral vaccines': 12,\n",
       "  'name': 'Jan to Mar 2020'},\n",
       " {'male': 3688,\n",
       "  'female': 3779,\n",
       "  'child': 792,\n",
       "  'adolescent': 45,\n",
       "  'middle aged': 2519,\n",
       "  'aged, 80 and over': 840,\n",
       "  'comorbidity': 530,\n",
       "  'risk factors': 793,\n",
       "  'antiviral agents': 516,\n",
       "  'viral vaccines': 43,\n",
       "  'name': 'Apr to Jun 2020'},\n",
       " {'male': 4808,\n",
       "  'female': 4982,\n",
       "  'child': 871,\n",
       "  'adolescent': 81,\n",
       "  'middle aged': 3381,\n",
       "  'aged, 80 and over': 1067,\n",
       "  'comorbidity': 599,\n",
       "  'risk factors': 938,\n",
       "  'antiviral agents': 558,\n",
       "  'viral vaccines': 40,\n",
       "  'name': 'Jul to Sep 2020'},\n",
       " {'male': 3712,\n",
       "  'female': 3855,\n",
       "  'child': 708,\n",
       "  'adolescent': 60,\n",
       "  'middle aged': 2616,\n",
       "  'aged, 80 and over': 898,\n",
       "  'comorbidity': 385,\n",
       "  'risk factors': 649,\n",
       "  'antiviral agents': 356,\n",
       "  'viral vaccines': 22,\n",
       "  'name': 'Oct to Dec 2020'}]"
      ]
     },
     "metadata": {},
     "execution_count": 158
    }
   ],
   "source": [
    "filters = ['male', 'female', 'child', 'adolescent', 'middle aged', 'aged, 80 and over', 'comorbidity', 'risk factors', 'antiviral agents', 'viral vaccines']\n",
    "\n",
    "u_df = u.value_counts().to_frame(name =\"occurences \")\n",
    "one_df = df_grouped[9:12]\n",
    "two_df = df_grouped[12:15]\n",
    "three_df = df_grouped[15:18]\n",
    "four_df = df_grouped[18:21]\n",
    "\n",
    "counts = []\n",
    "one = one_df['concepts'].apply(pd.Series).stack().reset_index(drop=True)\n",
    "one = one.value_counts().to_frame(name =\"occurences \")\n",
    "d = one.reindex(index = filters).to_dict()\n",
    "d['occurences ']['name'] = 'Jan to Mar 2020'\n",
    "counts.append(d['occurences '])\n",
    "\n",
    "two = two_df['concepts'].apply(pd.Series).stack().reset_index(drop=True)\n",
    "two = two.value_counts().to_frame(name =\"occurences \")\n",
    "d = two.reindex(index = filters).to_dict()\n",
    "d['occurences ']['name'] = 'Apr to Jun 2020'\n",
    "counts.append(d['occurences '])\n",
    "\n",
    "three = three_df['concepts'].apply(pd.Series).stack().reset_index(drop=True)\n",
    "three = three.value_counts().to_frame(name =\"occurences \")\n",
    "d = three.reindex(index = filters).to_dict()\n",
    "d['occurences ']['name'] = 'Jul to Sep 2020'\n",
    "counts.append(d['occurences '])\n",
    "\n",
    "four = four_df['concepts'].apply(pd.Series).stack().reset_index(drop=True)\n",
    "four = four.value_counts().to_frame(name =\"occurences \")\n",
    "d = four.reindex(index = filters).to_dict()\n",
    "d['occurences ']['name'] = 'Oct to Dec 2020'\n",
    "counts.append(d['occurences '])\n",
    "counts"
   ]
  },
  {
   "cell_type": "code",
   "execution_count": 7,
   "metadata": {},
   "outputs": [
    {
     "output_type": "execute_result",
     "data": {
      "text/plain": [
       "160     COVID-19; Electronic Health Records; Humans; I...\n",
       "731     Acetates; Atazanavir Sulfate; Benzimidazoles; ...\n",
       "1719    COVID-19; Depression; Disease Outbreaks; Femal...\n",
       "1800    COVID-19; Cross-Sectional Studies; Dentists; H...\n",
       "1809    ABO Blood-Group System; Angiotensin-Converting...\n",
       "Name: MeSH terms, dtype: object"
      ]
     },
     "metadata": {},
     "execution_count": 7
    }
   ],
   "source": [
    "nonnull['MeSH terms'].head()"
   ]
  },
  {
   "cell_type": "code",
   "execution_count": 81,
   "metadata": {},
   "outputs": [
    {
     "output_type": "stream",
     "name": "stderr",
     "text": [
      "ipykernel_launcher:1: SettingWithCopyWarning: \nA value is trying to be set on a copy of a slice from a DataFrame.\nTry using .loc[row_indexer,col_indexer] = value instead\n\nSee the caveats in the documentation: https://pandas.pydata.org/pandas-docs/stable/user_guide/indexing.html#returning-a-view-versus-a-copy\n"
     ]
    }
   ],
   "source": [
    "nonnull['concepts'] = [l.split('; ') for l in nonnull['MeSH terms']]"
   ]
  },
  {
   "cell_type": "code",
   "execution_count": 49,
   "metadata": {},
   "outputs": [
    {
     "output_type": "error",
     "ename": "TypeError",
     "evalue": "unhashable type: 'list'",
     "traceback": [
      "\u001b[0;31m---------------------------------------------------------------------------\u001b[0m",
      "\u001b[0;31mTypeError\u001b[0m                                 Traceback (most recent call last)",
      "\u001b[0;32m<ipython-input-49-ffca02ddce57>\u001b[0m in \u001b[0;36m<module>\u001b[0;34m\u001b[0m\n\u001b[0;32m----> 1\u001b[0;31m \u001b[0mnonnull\u001b[0m\u001b[0;34m[\u001b[0m\u001b[0;34m'concepts'\u001b[0m\u001b[0;34m]\u001b[0m\u001b[0;34m.\u001b[0m\u001b[0munique\u001b[0m\u001b[0;34m(\u001b[0m\u001b[0;34m)\u001b[0m\u001b[0;34m\u001b[0m\u001b[0m\n\u001b[0m",
      "\u001b[0;32m~/opt/anaconda3/envs/python=3.6/lib/python3.6/site-packages/pandas/core/series.py\u001b[0m in \u001b[0;36munique\u001b[0;34m(self)\u001b[0m\n\u001b[1;32m   1879\u001b[0m         \u001b[0mCategories\u001b[0m \u001b[0;34m(\u001b[0m\u001b[0;36m3\u001b[0m\u001b[0;34m,\u001b[0m \u001b[0mobject\u001b[0m\u001b[0;34m)\u001b[0m\u001b[0;34m:\u001b[0m \u001b[0;34m[\u001b[0m\u001b[0;34m'a'\u001b[0m \u001b[0;34m<\u001b[0m \u001b[0;34m'b'\u001b[0m \u001b[0;34m<\u001b[0m \u001b[0;34m'c'\u001b[0m\u001b[0;34m]\u001b[0m\u001b[0;34m\u001b[0m\u001b[0m\n\u001b[1;32m   1880\u001b[0m         \"\"\"\n\u001b[0;32m-> 1881\u001b[0;31m         \u001b[0mresult\u001b[0m \u001b[0;34m=\u001b[0m \u001b[0msuper\u001b[0m\u001b[0;34m(\u001b[0m\u001b[0;34m)\u001b[0m\u001b[0;34m.\u001b[0m\u001b[0munique\u001b[0m\u001b[0;34m(\u001b[0m\u001b[0;34m)\u001b[0m\u001b[0;34m\u001b[0m\u001b[0m\n\u001b[0m\u001b[1;32m   1882\u001b[0m         \u001b[0;32mreturn\u001b[0m \u001b[0mresult\u001b[0m\u001b[0;34m\u001b[0m\u001b[0m\n\u001b[1;32m   1883\u001b[0m \u001b[0;34m\u001b[0m\u001b[0m\n",
      "\u001b[0;32m~/opt/anaconda3/envs/python=3.6/lib/python3.6/site-packages/pandas/core/base.py\u001b[0m in \u001b[0;36munique\u001b[0;34m(self)\u001b[0m\n\u001b[1;32m   1263\u001b[0m                     \u001b[0mresult\u001b[0m \u001b[0;34m=\u001b[0m \u001b[0mnp\u001b[0m\u001b[0;34m.\u001b[0m\u001b[0masarray\u001b[0m\u001b[0;34m(\u001b[0m\u001b[0mresult\u001b[0m\u001b[0;34m)\u001b[0m\u001b[0;34m\u001b[0m\u001b[0m\n\u001b[1;32m   1264\u001b[0m         \u001b[0;32melse\u001b[0m\u001b[0;34m:\u001b[0m\u001b[0;34m\u001b[0m\u001b[0m\n\u001b[0;32m-> 1265\u001b[0;31m             \u001b[0mresult\u001b[0m \u001b[0;34m=\u001b[0m \u001b[0munique1d\u001b[0m\u001b[0;34m(\u001b[0m\u001b[0mvalues\u001b[0m\u001b[0;34m)\u001b[0m\u001b[0;34m\u001b[0m\u001b[0m\n\u001b[0m\u001b[1;32m   1266\u001b[0m \u001b[0;34m\u001b[0m\u001b[0m\n\u001b[1;32m   1267\u001b[0m         \u001b[0;32mreturn\u001b[0m \u001b[0mresult\u001b[0m\u001b[0;34m\u001b[0m\u001b[0m\n",
      "\u001b[0;32m~/opt/anaconda3/envs/python=3.6/lib/python3.6/site-packages/pandas/core/algorithms.py\u001b[0m in \u001b[0;36munique\u001b[0;34m(values)\u001b[0m\n\u001b[1;32m    397\u001b[0m \u001b[0;34m\u001b[0m\u001b[0m\n\u001b[1;32m    398\u001b[0m     \u001b[0mtable\u001b[0m \u001b[0;34m=\u001b[0m \u001b[0mhtable\u001b[0m\u001b[0;34m(\u001b[0m\u001b[0mlen\u001b[0m\u001b[0;34m(\u001b[0m\u001b[0mvalues\u001b[0m\u001b[0;34m)\u001b[0m\u001b[0;34m)\u001b[0m\u001b[0;34m\u001b[0m\u001b[0m\n\u001b[0;32m--> 399\u001b[0;31m     \u001b[0muniques\u001b[0m \u001b[0;34m=\u001b[0m \u001b[0mtable\u001b[0m\u001b[0;34m.\u001b[0m\u001b[0munique\u001b[0m\u001b[0;34m(\u001b[0m\u001b[0mvalues\u001b[0m\u001b[0;34m)\u001b[0m\u001b[0;34m\u001b[0m\u001b[0m\n\u001b[0m\u001b[1;32m    400\u001b[0m     \u001b[0muniques\u001b[0m \u001b[0;34m=\u001b[0m \u001b[0m_reconstruct_data\u001b[0m\u001b[0;34m(\u001b[0m\u001b[0muniques\u001b[0m\u001b[0;34m,\u001b[0m \u001b[0moriginal\u001b[0m\u001b[0;34m.\u001b[0m\u001b[0mdtype\u001b[0m\u001b[0;34m,\u001b[0m \u001b[0moriginal\u001b[0m\u001b[0;34m)\u001b[0m\u001b[0;34m\u001b[0m\u001b[0m\n\u001b[1;32m    401\u001b[0m     \u001b[0;32mreturn\u001b[0m \u001b[0muniques\u001b[0m\u001b[0;34m\u001b[0m\u001b[0m\n",
      "\u001b[0;32mpandas/_libs/hashtable_class_helper.pxi\u001b[0m in \u001b[0;36mpandas._libs.hashtable.PyObjectHashTable.unique\u001b[0;34m()\u001b[0m\n",
      "\u001b[0;32mpandas/_libs/hashtable_class_helper.pxi\u001b[0m in \u001b[0;36mpandas._libs.hashtable.PyObjectHashTable._unique\u001b[0;34m()\u001b[0m\n",
      "\u001b[0;31mTypeError\u001b[0m: unhashable type: 'list'"
     ]
    }
   ],
   "source": [
    "nonnull['concepts'].unique()"
   ]
  },
  {
   "cell_type": "code",
   "execution_count": 90,
   "metadata": {},
   "outputs": [],
   "source": [
    "u = nonnull['concepts'].apply(pd.Series).stack().reset_index(drop=True)"
   ]
  },
  {
   "cell_type": "code",
   "execution_count": null,
   "metadata": {},
   "outputs": [],
   "source": [
    "female = u[u['concepts']=='Female']"
   ]
  },
  {
   "cell_type": "code",
   "execution_count": 97,
   "metadata": {},
   "outputs": [
    {
     "output_type": "execute_result",
     "data": {
      "text/plain": [
       "                          keywords  occurences \n",
       "20                    Risk Factors         3616\n",
       "21                COVID-19 Testing         3361\n",
       "22  Clinical Laboratory Techniques         2813\n",
       "23                Antiviral Agents         2758\n",
       "24                     Coronavirus         2502\n",
       "25      Surveys and Questionnaires         2414\n",
       "26                    Telemedicine         2380\n",
       "27               Infection Control         2356\n",
       "28               Disease Outbreaks         2287\n",
       "29                 Hospitalization         2236"
      ],
      "text/html": "<div>\n<style scoped>\n    .dataframe tbody tr th:only-of-type {\n        vertical-align: middle;\n    }\n\n    .dataframe tbody tr th {\n        vertical-align: top;\n    }\n\n    .dataframe thead th {\n        text-align: right;\n    }\n</style>\n<table border=\"1\" class=\"dataframe\">\n  <thead>\n    <tr style=\"text-align: right;\">\n      <th></th>\n      <th>keywords</th>\n      <th>occurences</th>\n    </tr>\n  </thead>\n  <tbody>\n    <tr>\n      <th>20</th>\n      <td>Risk Factors</td>\n      <td>3616</td>\n    </tr>\n    <tr>\n      <th>21</th>\n      <td>COVID-19 Testing</td>\n      <td>3361</td>\n    </tr>\n    <tr>\n      <th>22</th>\n      <td>Clinical Laboratory Techniques</td>\n      <td>2813</td>\n    </tr>\n    <tr>\n      <th>23</th>\n      <td>Antiviral Agents</td>\n      <td>2758</td>\n    </tr>\n    <tr>\n      <th>24</th>\n      <td>Coronavirus</td>\n      <td>2502</td>\n    </tr>\n    <tr>\n      <th>25</th>\n      <td>Surveys and Questionnaires</td>\n      <td>2414</td>\n    </tr>\n    <tr>\n      <th>26</th>\n      <td>Telemedicine</td>\n      <td>2380</td>\n    </tr>\n    <tr>\n      <th>27</th>\n      <td>Infection Control</td>\n      <td>2356</td>\n    </tr>\n    <tr>\n      <th>28</th>\n      <td>Disease Outbreaks</td>\n      <td>2287</td>\n    </tr>\n    <tr>\n      <th>29</th>\n      <td>Hospitalization</td>\n      <td>2236</td>\n    </tr>\n  </tbody>\n</table>\n</div>"
     },
     "metadata": {},
     "execution_count": 97
    }
   ],
   "source": [
    "u_df = u.value_counts().to_frame(name =\"occurences \")\n",
    "u_df.index.name = 'keywords'\n",
    "u_df.reset_index(inplace=True)\n",
    "u_df[20:30]\n"
   ]
  },
  {
   "cell_type": "code",
   "execution_count": 15,
   "metadata": {},
   "outputs": [
    {
     "output_type": "stream",
     "name": "stdout",
     "text": [
      "['COVID-19' ' Electronic Health Records' ' Humans' ...\n ' Parainfluenza Virus 3, Human' ' Parainfluenza Virus 4, Human'\n ' Pyrimidine Nucleosides']\n"
     ]
    }
   ],
   "source": [
    "print(u.unique())"
   ]
  },
  {
   "cell_type": "code",
   "execution_count": null,
   "metadata": {},
   "outputs": [],
   "source": []
  }
 ]
}